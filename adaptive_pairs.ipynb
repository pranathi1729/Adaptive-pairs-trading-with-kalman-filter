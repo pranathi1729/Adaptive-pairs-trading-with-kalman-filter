{
  "nbformat": 4,
  "nbformat_minor": 0,
  "metadata": {
    "colab": {
      "provenance": []
    },
    "kernelspec": {
      "name": "python3",
      "display_name": "Python 3"
    },
    "language_info": {
      "name": "python"
    }
  },
  "cells": [
    {
      "cell_type": "code",
      "execution_count": 1,
      "metadata": {
        "colab": {
          "base_uri": "https://localhost:8080/"
        },
        "id": "O0kw_1bfMOY9",
        "outputId": "48685179-1be0-414a-cecd-decc06323ac6"
      },
      "outputs": [
        {
          "output_type": "stream",
          "name": "stderr",
          "text": [
            "[*********************100%***********************]  2 of 2 completed\n"
          ]
        }
      ],
      "source": [
        "# Data Collection & Preprocessing\n",
        "import yfinance as yf\n",
        "import numpy as np\n",
        "import pandas as pd\n",
        "import matplotlib.pyplot as plt\n",
        "\n",
        "\n",
        "tickers = ['JPM', 'BAC']\n",
        "data = yf.download(tickers, start=\"2018-01-01\", end=\"2021-12-31\", auto_adjust=False)['Adj Close']\n",
        "data.dropna(inplace=True)\n"
      ]
    },
    {
      "cell_type": "code",
      "source": [
        "import pandas as pd\n",
        "import statsmodels.api as sm\n",
        "\n",
        "def rolling_hedge_ratio(x, y, window=60):\n",
        "\n",
        "    ratios = []\n",
        "    for i in range(window, len(x)):\n",
        "        x_window = x.iloc[i - window:i]\n",
        "        y_window = y.iloc[i - window:i]\n",
        "        model = sm.OLS(x_window, sm.add_constant(y_window))\n",
        "        res = model.fit()\n",
        "        ratios.append(res.params.iloc[1])  # Use .iloc to avoid FutureWarning\n",
        "    return pd.Series(ratios, index=x.index[window:])\n",
        "\n",
        "# Compute rolling hedge ratio between JPM and BAC\n",
        "rolling_beta = rolling_hedge_ratio(data['JPM'], data['BAC'], window=60)\n",
        "\n",
        "# Align both series to hedge ratio index\n",
        "bac_rolled = data['BAC'].reindex(rolling_beta.index)\n",
        "jpm_rolled = data['JPM'].reindex(rolling_beta.index)\n",
        "\n",
        "# Calculate rolling spread\n",
        "spread = jpm_rolled - rolling_beta * bac_rolled\n"
      ],
      "metadata": {
        "id": "2DmuSI_PMsAm"
      },
      "execution_count": 2,
      "outputs": []
    },
    {
      "cell_type": "code",
      "source": [
        "!pip install pykalman\n"
      ],
      "metadata": {
        "colab": {
          "base_uri": "https://localhost:8080/"
        },
        "id": "pEaCzqwkM1cf",
        "outputId": "bcb7ceb6-7e1e-4689-ae16-5c957a6e0fc1"
      },
      "execution_count": 4,
      "outputs": [
        {
          "output_type": "stream",
          "name": "stdout",
          "text": [
            "Collecting pykalman\n",
            "  Downloading pykalman-0.10.1-py2.py3-none-any.whl.metadata (9.5 kB)\n",
            "Requirement already satisfied: numpy<3 in /usr/local/lib/python3.11/dist-packages (from pykalman) (2.0.2)\n",
            "Requirement already satisfied: packaging in /usr/local/lib/python3.11/dist-packages (from pykalman) (24.2)\n",
            "Collecting scikit-base<0.13.0 (from pykalman)\n",
            "  Downloading scikit_base-0.12.3-py3-none-any.whl.metadata (8.8 kB)\n",
            "Requirement already satisfied: scipy<2.0.0 in /usr/local/lib/python3.11/dist-packages (from pykalman) (1.15.3)\n",
            "Downloading pykalman-0.10.1-py2.py3-none-any.whl (248 kB)\n",
            "\u001b[2K   \u001b[90m━━━━━━━━━━━━━━━━━━━━━━━━━━━━━━━━━━━━━━━━\u001b[0m \u001b[32m248.5/248.5 kB\u001b[0m \u001b[31m14.0 MB/s\u001b[0m eta \u001b[36m0:00:00\u001b[0m\n",
            "\u001b[?25hDownloading scikit_base-0.12.3-py3-none-any.whl (145 kB)\n",
            "\u001b[2K   \u001b[90m━━━━━━━━━━━━━━━━━━━━━━━━━━━━━━━━━━━━━━━━\u001b[0m \u001b[32m145.5/145.5 kB\u001b[0m \u001b[31m9.6 MB/s\u001b[0m eta \u001b[36m0:00:00\u001b[0m\n",
            "\u001b[?25hInstalling collected packages: scikit-base, pykalman\n",
            "Successfully installed pykalman-0.10.1 scikit-base-0.12.3\n"
          ]
        }
      ]
    },
    {
      "cell_type": "code",
      "source": [
        "#Kalman Filter Smoothing\n",
        "from pykalman import KalmanFilter\n",
        "\n",
        "kf = KalmanFilter(initial_state_mean=0, n_dim_obs=1, n_dim_state=1)\n",
        "state_means, _ = kf.filter(spread.values)\n",
        "smoothed_spread = pd.Series(state_means.flatten(), index=spread.index)\n"
      ],
      "metadata": {
        "id": "7htJNve6M5YE"
      },
      "execution_count": 5,
      "outputs": []
    },
    {
      "cell_type": "code",
      "source": [
        "!pip install hmmlearn\n"
      ],
      "metadata": {
        "colab": {
          "base_uri": "https://localhost:8080/"
        },
        "id": "GyhclWrVNhnH",
        "outputId": "51b2ff68-98e1-4e32-959d-ec812dd15a2c"
      },
      "execution_count": 6,
      "outputs": [
        {
          "output_type": "stream",
          "name": "stdout",
          "text": [
            "Collecting hmmlearn\n",
            "  Downloading hmmlearn-0.3.3-cp311-cp311-manylinux_2_17_x86_64.manylinux2014_x86_64.whl.metadata (3.0 kB)\n",
            "Requirement already satisfied: numpy>=1.10 in /usr/local/lib/python3.11/dist-packages (from hmmlearn) (2.0.2)\n",
            "Requirement already satisfied: scikit-learn!=0.22.0,>=0.16 in /usr/local/lib/python3.11/dist-packages (from hmmlearn) (1.6.1)\n",
            "Requirement already satisfied: scipy>=0.19 in /usr/local/lib/python3.11/dist-packages (from hmmlearn) (1.15.3)\n",
            "Requirement already satisfied: joblib>=1.2.0 in /usr/local/lib/python3.11/dist-packages (from scikit-learn!=0.22.0,>=0.16->hmmlearn) (1.5.1)\n",
            "Requirement already satisfied: threadpoolctl>=3.1.0 in /usr/local/lib/python3.11/dist-packages (from scikit-learn!=0.22.0,>=0.16->hmmlearn) (3.6.0)\n",
            "Downloading hmmlearn-0.3.3-cp311-cp311-manylinux_2_17_x86_64.manylinux2014_x86_64.whl (165 kB)\n",
            "\u001b[2K   \u001b[90m━━━━━━━━━━━━━━━━━━━━━━━━━━━━━━━━━━━━━━━━\u001b[0m \u001b[32m165.9/165.9 kB\u001b[0m \u001b[31m8.2 MB/s\u001b[0m eta \u001b[36m0:00:00\u001b[0m\n",
            "\u001b[?25hInstalling collected packages: hmmlearn\n",
            "Successfully installed hmmlearn-0.3.3\n"
          ]
        }
      ]
    },
    {
      "cell_type": "code",
      "source": [
        "# Volatility Regime Detection with HMM\n",
        "from hmmlearn.hmm import GaussianHMM\n",
        "\n",
        "log_ret = np.log(spread / spread.shift(1)).dropna()\n",
        "vol = log_ret.rolling(window=20).std().dropna().values.reshape(-1, 1)\n",
        "\n",
        "hmm = GaussianHMM(n_components=2, covariance_type=\"diag\", n_iter=1000)\n",
        "hmm.fit(vol)\n",
        "hidden_states = hmm.predict(vol)\n",
        "\n",
        "\n",
        "regimes = pd.Series(np.nan, index=spread.index)\n",
        "regimes.iloc[-len(hidden_states):] = hidden_states\n",
        "\n",
        "# Final feature DF\n",
        "features = pd.DataFrame(index=spread.index)\n",
        "features['Spread'] = spread\n",
        "features['Smoothed'] = smoothed_spread\n",
        "features['Regime'] = regimes\n"
      ],
      "metadata": {
        "colab": {
          "base_uri": "https://localhost:8080/"
        },
        "id": "FuRPcEYGNTRH",
        "outputId": "3d6095c4-2daa-448f-fc62-f738bf91cddd"
      },
      "execution_count": 7,
      "outputs": [
        {
          "output_type": "stream",
          "name": "stderr",
          "text": [
            "/usr/local/lib/python3.11/dist-packages/pandas/core/arraylike.py:399: RuntimeWarning: invalid value encountered in log\n",
            "  result = getattr(ufunc, method)(*inputs, **kwargs)\n"
          ]
        }
      ]
    },
    {
      "cell_type": "code",
      "source": [
        "# LSTM Forecasting of Smoothed Spread\n",
        "from sklearn.preprocessing import MinMaxScaler\n",
        "from tensorflow.keras.models import Sequential\n",
        "from tensorflow.keras.layers import LSTM, Dense\n",
        "\n",
        "lookback = 10\n",
        "scaler = MinMaxScaler()\n",
        "scaled = scaler.fit_transform(features['Smoothed'].values.reshape(-1, 1))\n",
        "\n",
        "X, y = [], []\n",
        "for i in range(lookback, len(scaled)):\n",
        "    X.append(scaled[i-lookback:i])\n",
        "    y.append(scaled[i])\n",
        "X, y = np.array(X), np.array(y)\n",
        "\n",
        "X = X.reshape((X.shape[0], X.shape[1], 1))\n",
        "\n",
        "# Build LSTM\n",
        "model = Sequential()\n",
        "model.add(LSTM(50, input_shape=(X.shape[1], 1)))\n",
        "model.add(Dense(1))\n",
        "model.compile(loss='mse', optimizer='adam')\n",
        "model.fit(X, y, epochs=10, batch_size=32, verbose=1)\n",
        "\n",
        "# Predict\n",
        "predicted = model.predict(X)\n",
        "predicted = scaler.inverse_transform(predicted)\n",
        "predicted_series = pd.Series(predicted.flatten(), index=features.index[lookback:])\n"
      ],
      "metadata": {
        "colab": {
          "base_uri": "https://localhost:8080/"
        },
        "id": "0FVKFAVINgnY",
        "outputId": "2a99d601-da4a-4c5b-888d-6ecadd943af5"
      },
      "execution_count": 8,
      "outputs": [
        {
          "output_type": "stream",
          "name": "stdout",
          "text": [
            "Epoch 1/10\n"
          ]
        },
        {
          "output_type": "stream",
          "name": "stderr",
          "text": [
            "/usr/local/lib/python3.11/dist-packages/keras/src/layers/rnn/rnn.py:200: UserWarning: Do not pass an `input_shape`/`input_dim` argument to a layer. When using Sequential models, prefer using an `Input(shape)` object as the first layer in the model instead.\n",
            "  super().__init__(**kwargs)\n"
          ]
        },
        {
          "output_type": "stream",
          "name": "stdout",
          "text": [
            "\u001b[1m30/30\u001b[0m \u001b[32m━━━━━━━━━━━━━━━━━━━━\u001b[0m\u001b[37m\u001b[0m \u001b[1m3s\u001b[0m 11ms/step - loss: 0.1283\n",
            "Epoch 2/10\n",
            "\u001b[1m30/30\u001b[0m \u001b[32m━━━━━━━━━━━━━━━━━━━━\u001b[0m\u001b[37m\u001b[0m \u001b[1m1s\u001b[0m 11ms/step - loss: 0.0071\n",
            "Epoch 3/10\n",
            "\u001b[1m30/30\u001b[0m \u001b[32m━━━━━━━━━━━━━━━━━━━━\u001b[0m\u001b[37m\u001b[0m \u001b[1m1s\u001b[0m 10ms/step - loss: 0.0051\n",
            "Epoch 4/10\n",
            "\u001b[1m30/30\u001b[0m \u001b[32m━━━━━━━━━━━━━━━━━━━━\u001b[0m\u001b[37m\u001b[0m \u001b[1m0s\u001b[0m 7ms/step - loss: 0.0043\n",
            "Epoch 5/10\n",
            "\u001b[1m30/30\u001b[0m \u001b[32m━━━━━━━━━━━━━━━━━━━━\u001b[0m\u001b[37m\u001b[0m \u001b[1m0s\u001b[0m 6ms/step - loss: 0.0041\n",
            "Epoch 6/10\n",
            "\u001b[1m30/30\u001b[0m \u001b[32m━━━━━━━━━━━━━━━━━━━━\u001b[0m\u001b[37m\u001b[0m \u001b[1m0s\u001b[0m 6ms/step - loss: 0.0036\n",
            "Epoch 7/10\n",
            "\u001b[1m30/30\u001b[0m \u001b[32m━━━━━━━━━━━━━━━━━━━━\u001b[0m\u001b[37m\u001b[0m \u001b[1m0s\u001b[0m 7ms/step - loss: 0.0035\n",
            "Epoch 8/10\n",
            "\u001b[1m30/30\u001b[0m \u001b[32m━━━━━━━━━━━━━━━━━━━━\u001b[0m\u001b[37m\u001b[0m \u001b[1m0s\u001b[0m 6ms/step - loss: 0.0037\n",
            "Epoch 9/10\n",
            "\u001b[1m30/30\u001b[0m \u001b[32m━━━━━━━━━━━━━━━━━━━━\u001b[0m\u001b[37m\u001b[0m \u001b[1m0s\u001b[0m 7ms/step - loss: 0.0034\n",
            "Epoch 10/10\n",
            "\u001b[1m30/30\u001b[0m \u001b[32m━━━━━━━━━━━━━━━━━━━━\u001b[0m\u001b[37m\u001b[0m \u001b[1m0s\u001b[0m 7ms/step - loss: 0.0031\n",
            "\u001b[1m30/30\u001b[0m \u001b[32m━━━━━━━━━━━━━━━━━━━━\u001b[0m\u001b[37m\u001b[0m \u001b[1m0s\u001b[0m 8ms/step\n"
          ]
        }
      ]
    },
    {
      "cell_type": "code",
      "source": [
        "# Compute z-score of spread\n",
        "z_score = (spread - spread.rolling(60).mean()) / spread.rolling(60).std()\n",
        "\n",
        "# Entry and exit\n",
        "signals = pd.Series(0, index=z_score.index)\n",
        "signals[z_score > 1] = -1   # Short JPM / Long BAC\n",
        "signals[z_score < -1] = 1   # Long JPM / Short BAC\n",
        "signals[(z_score > -0.5) & (z_score < 0.5)] = 0  # Exit zone\n",
        "\n",
        "# Carry forward position until exit\n",
        "signals = signals.ffill().fillna(0)\n"
      ],
      "metadata": {
        "id": "ZowLllJ7NxdQ"
      },
      "execution_count": 9,
      "outputs": []
    },
    {
      "cell_type": "code",
      "source": [
        "import matplotlib.pyplot as plt\n",
        "import numpy as np\n",
        "\n",
        "# Align returns and hedge ratio\n",
        "returns = data[['JPM', 'BAC']].pct_change().reindex(signals.index).fillna(0)\n",
        "beta_aligned = rolling_beta.reindex(signals.index).fillna(method='ffill')\n",
        "\n",
        "# Construct positions based on signals\n",
        "positions = pd.DataFrame(index=signals.index)\n",
        "positions['JPM'] = -signals\n",
        "positions['BAC'] = signals * beta_aligned\n",
        "\n",
        "strategy_returns = (positions.shift(1) * returns).sum(axis=1)\n",
        "\n",
        "# Cumulative return\n",
        "cumulative_returns = (1 + strategy_returns).cumprod()\n",
        "\n",
        "# Sharpe Ratio (annualized)\n",
        "sharpe = strategy_returns.mean() / strategy_returns.std() * np.sqrt(252)\n",
        "\n",
        "# Value at Risk (VaR) at 95% confidence\n",
        "var_95 = np.percentile(strategy_returns, 5)\n",
        "\n",
        "# CAGR\n",
        "n_years = (strategy_returns.index[-1] - strategy_returns.index[0]).days / 365.25\n",
        "cagr = cumulative_returns.iloc[-1]**(1 / n_years) - 1\n",
        "\n",
        "# Total return\n",
        "total_return = cumulative_returns.iloc[-1] - 1\n",
        "\n",
        "print(f\"Sharpe Ratio: {sharpe:.2f}\")\n",
        "print(f\"Value at Risk (95% confidence): {var_95:.2%}\")\n",
        "print(f\"CAGR: {cagr:.2%}\")\n",
        "print(f\"Total Return: {total_return:.2%}\")\n",
        "\n",
        "# Plot\n",
        "plt.figure(figsize=(12, 6))\n",
        "plt.plot(cumulative_returns, label='Strategy')\n",
        "plt.title('Cumulative Returns: JPM/BAC Pairs Trade')\n",
        "plt.grid(True)\n",
        "plt.legend()\n",
        "plt.show()\n"
      ],
      "metadata": {
        "colab": {
          "base_uri": "https://localhost:8080/",
          "height": 649
        },
        "id": "gvhBbe8-N4-i",
        "outputId": "720941c9-0d2e-49db-b27c-395f2c59afed"
      },
      "execution_count": 10,
      "outputs": [
        {
          "output_type": "stream",
          "name": "stderr",
          "text": [
            "<ipython-input-10-98581467>:6: FutureWarning: Series.fillna with 'method' is deprecated and will raise in a future version. Use obj.ffill() or obj.bfill() instead.\n",
            "  beta_aligned = rolling_beta.reindex(signals.index).fillna(method='ffill')\n"
          ]
        },
        {
          "output_type": "stream",
          "name": "stdout",
          "text": [
            "Sharpe Ratio: 0.87\n",
            "Value at Risk (95% confidence): -4.83%\n",
            "CAGR: 42.50%\n",
            "Total Return: 278.22%\n"
          ]
        },
        {
          "output_type": "display_data",
          "data": {
            "text/plain": [
              "<Figure size 1200x600 with 1 Axes>"
            ],
            "image/png": "[encoded data removed]"
          },
          "metadata": {}
        }
      ]
    }
  ]
}